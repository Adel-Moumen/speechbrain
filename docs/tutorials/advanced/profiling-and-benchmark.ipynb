{
 "cells": [
  {
   "cell_type": "markdown",
   "metadata": {
    "id": "xrB8PyR6nO31"
   },
   "source": [
    "# SpeechBrain profiling\n",
    "\n",
    "SpeechBrain provides a simple way of profiling any training recipe. The output will be a standard tensorboard logdir containing all the typical metrics, traces, charts etc. If you want more information, please refer to [the PyTorch documentation](https://pytorch.org/tutorials/recipes/recipes/profiler_recipe.html). Indeed, SpeechBrain simply uses the standard Torch profiler.\n",
    "\n",
    "## Installation\n",
    "Please ensure you have installed the TensorBoard profiler:\n",
    "\n",
    "`pip install torch_tb_profiler`\n",
    "\n",
    "## Calling the profiler\n",
    "\n",
    "Let's start a training with the profiler enabled. Of course, we do not want to run the full training, just a few steps. This can be achieved with:\n",
    "\n",
    "```bash\n",
    "python train.py hparams/config.yaml --profile_training --profile_warmup 10 --profile_steps 5\n",
    "```\n",
    "\n",
    "**--profile_warmup** and **--profile_steps** indicate for how long we should wait, i.e. warmup, before starting to record and the number of steps to record respectively. Waiting is useful as some PyTorch and CuDNN optimizations are usually happening on the first training steps.\n",
    "\n",
    "## Vizualizing the logs with tensorboard\n",
    "\n",
    "The previous step will have generated profiler logs in the **{output_folder}/profiler_logs** location. The output folder is the one from your YAML. You can start tensorboard and exploring the trace and charts by executing:\n",
    "\n",
    "```bash\n",
    "tensorboard --log_dir {output_folder}/profiler_logs\n",
    "```\n",
    "\n",
    "Of course, you'll need to have tensorboard installed.\n",
    "\n",
    "```bash\n",
    "pip install tensorboard\n",
    "```"
   ]
  }
 ],
 "metadata": {
  "colab": {
   "provenance": [
    {
     "file_id": "1Jvc7Uf1bGjAPXiO0N1zFJKGfCyC89v-N",
     "timestamp": 1654072519281
    }
   ]
  },
  "kernelspec": {
   "display_name": "Python 3 (ipykernel)",
   "language": "python",
   "name": "python3"
  },
  "language_info": {
   "codemirror_mode": {
    "name": "ipython",
    "version": 3
   },
   "file_extension": ".py",
   "mimetype": "text/x-python",
   "name": "python",
   "nbconvert_exporter": "python",
   "pygments_lexer": "ipython3",
   "version": "3.12.6"
  }
 },
 "nbformat": 4,
 "nbformat_minor": 4
}
